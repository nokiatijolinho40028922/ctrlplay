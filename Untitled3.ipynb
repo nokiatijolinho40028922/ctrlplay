{
 "cells": [
  {
   "cell_type": "code",
   "execution_count": 57,
   "id": "05369ee4-f0af-4c79-8695-11b66f8b147b",
   "metadata": {},
   "outputs": [],
   "source": [
    "nomes= ['kaiky', 'daniel','matheus','jorge','maxwell','john','emilian','andre']"
   ]
  },
  {
   "cell_type": "code",
   "execution_count": 59,
   "id": "24f0e06c-2bb9-4d29-b272-e349dcbe1605",
   "metadata": {},
   "outputs": [
    {
     "name": "stdout",
     "output_type": "stream",
     "text": [
      "['kaiky', 'daniel', 'matheus', 'jorge', 'maxwell', 'john', 'emilian', 'andre']\n"
     ]
    }
   ],
   "source": [
    "print(nomes)"
   ]
  },
  {
   "cell_type": "code",
   "execution_count": 73,
   "id": "7f37b730-296b-4af6-a4e4-3d6d66b5266b",
   "metadata": {},
   "outputs": [
    {
     "name": "stdout",
     "output_type": "stream",
     "text": [
      "[1, 2, 3, 4, 5, 6, 7, 8, 9, 10]\n"
     ]
    }
   ],
   "source": [
    "numeros = [1,2,3,4,5,6,7,8,9]\n",
    "numeros.insert(10,10)\n",
    "print(numeros)"
   ]
  },
  {
   "cell_type": "code",
   "execution_count": null,
   "id": "e2c0dc66-efeb-48bd-89c7-be9f9a2e12ec",
   "metadata": {},
   "outputs": [],
   "source": []
  }
 ],
 "metadata": {
  "kernelspec": {
   "display_name": "Python [conda env:base] *",
   "language": "python",
   "name": "conda-base-py"
  },
  "language_info": {
   "codemirror_mode": {
    "name": "ipython",
    "version": 3
   },
   "file_extension": ".py",
   "mimetype": "text/x-python",
   "name": "python",
   "nbconvert_exporter": "python",
   "pygments_lexer": "ipython3",
   "version": "3.12.7"
  }
 },
 "nbformat": 4,
 "nbformat_minor": 5
}
