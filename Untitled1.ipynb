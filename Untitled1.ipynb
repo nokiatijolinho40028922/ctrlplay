{
 "cells": [
  {
   "cell_type": "code",
   "execution_count": null,
   "id": "fba468d3-61a1-4586-b5b9-f2585b8b1e6e",
   "metadata": {},
   "outputs": [],
   "source": [
    "#descobrir o perimetro de um triangulo retangulo, , retangulo e trapezio"
   ]
  },
  {
   "cell_type": "code",
   "execution_count": 27,
   "id": "9476bf76-9d7e-4ae2-8e2c-a9976e47b2f4",
   "metadata": {},
   "outputs": [
    {
     "name": "stdout",
     "output_type": "stream",
     "text": [
      "168\n"
     ]
    }
   ],
   "source": [
    "#quadrado:\n",
    "lado = 42\n",
    "pquadrado= lado*4\n",
    "areaq=lado*lado\n",
    "print (pquadrado)"
   ]
  },
  {
   "cell_type": "code",
   "execution_count": 73,
   "id": "57a7a84d-e25d-42ef-ae49-6290d13179dc",
   "metadata": {},
   "outputs": [],
   "source": [
    "#triangulo\n",
    "lado1 = 32\n",
    "lado2 = 25\n",
    "lado3= 55\n",
    "areaT= lado1*lado2/2\n",
    "perimetro=lado1+lado2+lado3"
   ]
  },
  {
   "cell_type": "code",
   "execution_count": 75,
   "id": "1e4c9c29-cf1a-43d7-b553-37e2d7eb50ed",
   "metadata": {},
   "outputs": [
    {
     "name": "stdout",
     "output_type": "stream",
     "text": [
      "400.0\n",
      "112\n"
     ]
    }
   ],
   "source": [
    "print (areaT) \n",
    "\n",
    "\n",
    "print(perimetro)"
   ]
  },
  {
   "cell_type": "code",
   "execution_count": 83,
   "id": "a6cde342-ad05-4bf0-acfb-c117c12dcc36",
   "metadata": {},
   "outputs": [
    {
     "name": "stdout",
     "output_type": "stream",
     "text": [
      "450\n",
      "90\n"
     ]
    }
   ],
   "source": [
    "#retangulo\n",
    "lado1=30\n",
    "lado2=15\n",
    "area=lado1*lado2\n",
    "perimetro= 15*2+30*2\n",
    "print(area) \n",
    "print(perimetro)"
   ]
  },
  {
   "cell_type": "code",
   "execution_count": 126,
   "id": "6fbba57e-5f4c-4899-b00d-3d4a504527e4",
   "metadata": {},
   "outputs": [
    {
     "name": "stdout",
     "output_type": "stream",
     "text": [
      "42.5\n",
      "125\n"
     ]
    }
   ],
   "source": [
    "#trapezio\n",
    "base1=35\n",
    "lado1=20\n",
    "base2=50\n",
    "area=(base1+base2)/2\n",
    "perimetro=lado1*2+base1+base2\n",
    "print (area) \n",
    "print(perimetro)"
   ]
  },
  {
   "cell_type": "code",
   "execution_count": 151,
   "id": "79d93a17-6edb-49aa-9b03-d5455e8977f6",
   "metadata": {},
   "outputs": [
    {
     "name": "stdin",
     "output_type": "stream",
     "text": [
      "digite o numero de horas trabalhadas 12\n",
      "digite o numero de dias trabalhados. 24\n"
     ]
    },
    {
     "name": "stdout",
     "output_type": "stream",
     "text": [
      "seu salario e: 4320.0 dolares\n",
      "codigo de empregado: 31415910\n"
     ]
    }
   ],
   "source": [
    "# clt\n",
    "codigo_de_empregado =31415910\n",
    "salario_por_hora= 15\n",
    "horas_trabalhadas = float(input('digite o numero de horas trabalhadas'))\n",
    "dias_trabalhados = float(input('digite o numero de dias trabalhados.'))\n",
    "calculate = dias_trabalhados * (horas_trabalhadas*salario_por_hora)\n",
    "print (\"seu salario e:\" , calculate , \"dolares\")\n",
    "print (\"codigo de empregado:\" , codigo_de_empregado)"
   ]
  },
  {
   "cell_type": "code",
   "execution_count": null,
   "id": "a90e4f05-a551-424a-9d66-a737d617fa5a",
   "metadata": {},
   "outputs": [],
   "source": []
  }
 ],
 "metadata": {
  "kernelspec": {
   "display_name": "Python [conda env:base] *",
   "language": "python",
   "name": "conda-base-py"
  },
  "language_info": {
   "codemirror_mode": {
    "name": "ipython",
    "version": 3
   },
   "file_extension": ".py",
   "mimetype": "text/x-python",
   "name": "python",
   "nbconvert_exporter": "python",
   "pygments_lexer": "ipython3",
   "version": "3.12.7"
  }
 },
 "nbformat": 4,
 "nbformat_minor": 5
}
