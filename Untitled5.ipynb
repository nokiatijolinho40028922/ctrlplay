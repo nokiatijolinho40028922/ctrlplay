{
 "cells": [
  {
   "cell_type": "code",
   "execution_count": 77,
   "id": "a187f932-ba02-470a-b374-aef8c0319a8d",
   "metadata": {},
   "outputs": [
    {
     "name": "stdin",
     "output_type": "stream",
     "text": [
      "insira seu nome sans\n",
      "insira sua classe hue hue hue hue\n",
      "insira seu nivel 1324\n",
      "insira suas habilidades end\n"
     ]
    }
   ],
   "source": [
    "'''um programa que pede para um usuario : nome, classe, level e habilidades. Colocar tudo em um dicionario'''\n",
    "nome = str(input( 'insira seu nome'))\n",
    "classe= str(input( 'insira sua classe'))\n",
    "lvl = str(input('insira seu nivel'))\n",
    "habilidade = []\n",
    "while True :\n",
    "\n",
    "    escolhas = str(input('insira suas habilidades'))\n",
    "    if escolhas == 'end':\n",
    "        break\n",
    "    habilidade.append (escolhas)"
   ]
  },
  {
   "cell_type": "code",
   "execution_count": 79,
   "id": "0d5162cb-cf8b-4fde-9aee-77476bdef711",
   "metadata": {},
   "outputs": [],
   "source": [
    "dictionary = {}\n",
    "dictionary ['nome'] = nome \n",
    "dictionary ['classe'] = classe \n",
    "dictionary ['lvl'] = lvl \n",
    "dictionary ['habilidades'] = habilidade"
   ]
  },
  {
   "cell_type": "code",
   "execution_count": 127,
   "id": "359a7178-d343-4d6c-8d05-ad8a96283142",
   "metadata": {},
   "outputs": [
    {
     "ename": "TypeError",
     "evalue": "'str' object is not callable",
     "output_type": "error",
     "traceback": [
      "\u001b[1;31m---------------------------------------------------------------------------\u001b[0m",
      "\u001b[1;31mTypeError\u001b[0m                                 Traceback (most recent call last)",
      "Cell \u001b[1;32mIn[127], line 1\u001b[0m\n\u001b[1;32m----> 1\u001b[0m \u001b[38;5;28mprint\u001b[39m(\u001b[38;5;28mtype\u001b[39m(dictionary))\n",
      "\u001b[1;31mTypeError\u001b[0m: 'str' object is not callable"
     ]
    }
   ],
   "source": [
    "print(type(dictionary))"
   ]
  },
  {
   "cell_type": "code",
   "execution_count": 125,
   "id": "4eeedc64-3f41-45db-b34c-56d717a3b304",
   "metadata": {},
   "outputs": [
    {
     "ename": "TypeError",
     "evalue": "'str' object is not callable",
     "output_type": "error",
     "traceback": [
      "\u001b[1;31m---------------------------------------------------------------------------\u001b[0m",
      "\u001b[1;31mTypeError\u001b[0m                                 Traceback (most recent call last)",
      "Cell \u001b[1;32mIn[125], line 2\u001b[0m\n\u001b[0;32m      1\u001b[0m \u001b[38;5;28;01mif\u001b[39;00m dictionary [\u001b[38;5;124m'\u001b[39m\u001b[38;5;124mnome\u001b[39m\u001b[38;5;124m'\u001b[39m] \u001b[38;5;241m==\u001b[39m \u001b[38;5;124m'\u001b[39m\u001b[38;5;124msans\u001b[39m\u001b[38;5;124m'\u001b[39m: \n\u001b[1;32m----> 2\u001b[0m     \u001b[38;5;28mprint\u001b[39m (\u001b[38;5;124m'\u001b[39m\u001b[38;5;124mHUMANS?\u001b[39m\u001b[38;5;124m'\u001b[39m)\n",
      "\u001b[1;31mTypeError\u001b[0m: 'str' object is not callable"
     ]
    }
   ],
   "source": [
    "if dictionary ['nome'] == 'sans': \n",
    "    print ('HUMANS?')"
   ]
  },
  {
   "cell_type": "code",
   "execution_count": null,
   "id": "abadfa8d-e70f-443f-ae39-46846b0ba643",
   "metadata": {},
   "outputs": [],
   "source": []
  }
 ],
 "metadata": {
  "kernelspec": {
   "display_name": "Python [conda env:base] *",
   "language": "python",
   "name": "conda-base-py"
  },
  "language_info": {
   "codemirror_mode": {
    "name": "ipython",
    "version": 3
   },
   "file_extension": ".py",
   "mimetype": "text/x-python",
   "name": "python",
   "nbconvert_exporter": "python",
   "pygments_lexer": "ipython3",
   "version": "3.12.7"
  }
 },
 "nbformat": 4,
 "nbformat_minor": 5
}
