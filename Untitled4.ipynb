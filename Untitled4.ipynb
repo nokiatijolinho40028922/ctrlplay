{
 "cells": [
  {
   "cell_type": "code",
   "execution_count": 19,
   "id": "6ca271d4-9ec7-47f3-b59d-e559b4abd0ee",
   "metadata": {},
   "outputs": [
    {
     "name": "stdout",
     "output_type": "stream",
     "text": [
      "nome chato\n"
     ]
    }
   ],
   "source": [
    "nome = 'jooj'\n",
    "if nome == ('jooj'): print ('nome legal')\n",
    "else: print (\"nome chato\")"
   ]
  },
  {
   "cell_type": "code",
   "execution_count": 95,
   "id": "8796f509-f36f-444b-af19-ea02de05eafd",
   "metadata": {},
   "outputs": [
    {
     "name": "stdout",
     "output_type": "stream",
     "text": [
      "ta caro\n"
     ]
    }
   ],
   "source": [
    "valor = 99\n",
    "if valor >= 99 : print('ta caro')\n",
    "elif valor >= 30 : print ('ta medio')\n",
    "elif valor >= 0 : print ('ta gratis')\n",
    "\n"
   ]
  },
  {
   "cell_type": "code",
   "execution_count": 99,
   "id": "c3daddcd-8624-4ee3-b517-df3ad1c0a505",
   "metadata": {},
   "outputs": [
    {
     "name": "stdout",
     "output_type": "stream",
     "text": [
      "GET OUT!\n"
     ]
    }
   ],
   "source": [
    "nomes = ['matheus','kaiky','andre','raphael']\n",
    "pessoa_nova = 'jo'\n",
    "if pessoa_nova == ('joão') : print ('newer')\n",
    "else : print ('GET OUT!')"
   ]
  },
  {
   "cell_type": "code",
   "execution_count": 117,
   "id": "03ddab06-897f-47f1-ac38-dc4ba7159463",
   "metadata": {},
   "outputs": [
    {
     "name": "stdin",
     "output_type": "stream",
     "text": [
      "digite sua nota 1000\n"
     ]
    },
    {
     "name": "stdout",
     "output_type": "stream",
     "text": [
      "parabens\n"
     ]
    }
   ],
   "source": [
    "nota = int(input(\"digite sua nota\"))\n",
    "if nota >= 10 : print('parabens')\n",
    "else : print ('melhore')"
   ]
  },
  {
   "cell_type": "code",
   "execution_count": 303,
   "id": "14326d9d-87c9-49f3-8c36-75ad145dc06d",
   "metadata": {},
   "outputs": [
    {
     "name": "stdin",
     "output_type": "stream",
     "text": [
      "digite nota 1 (ate 10) 9.99999999999999999999999999999999999999999999999999999999999999999999999999999999999999\n"
     ]
    },
    {
     "name": "stdout",
     "output_type": "stream",
     "text": [
      "valido\n"
     ]
    },
    {
     "name": "stdin",
     "output_type": "stream",
     "text": [
      "digite a nota 2 (ate 10) 0\n"
     ]
    },
    {
     "name": "stdout",
     "output_type": "stream",
     "text": [
      "valido\n",
      "5.0\n",
      "recuperação\n"
     ]
    }
   ],
   "source": [
    "#menor q 5 = repete. 5 a 7 recupera + q 7 passa de ano\n",
    "nota1 = float(input('digite nota 1 (ate 10)'))\n",
    "\n",
    "if nota1 > 10 : print ('invalido')\n",
    "else : print ('valido')\n",
    "nota2 = float(input('digite a nota 2 (ate 10)'))\n",
    "if nota2 > 10 :print ('invalido')\n",
    "else : print ('valido')\n",
    "if nota1 + nota2 >20 : print (\"invalida, tente outra vez\")\n",
    "else : print((nota1+nota2)/2)\n",
    "if ((nota1+nota2)/2) < 5 : print ('reprovou')\n",
    "elif ((nota1+nota2)/2) >= 5 and ((nota1+nota2)/2) <= 7 : print ('recuperação')\n",
    "elif ((nota1+nota2)/2) > 7 and ((nota1+nota2)/2)<= 10 : print ('aprovado')"
   ]
  },
  {
   "cell_type": "code",
   "execution_count": null,
   "id": "ce693c8b-825e-487d-8710-63f26adfeb90",
   "metadata": {},
   "outputs": [],
   "source": []
  }
 ],
 "metadata": {
  "kernelspec": {
   "display_name": "Python [conda env:base] *",
   "language": "python",
   "name": "conda-base-py"
  },
  "language_info": {
   "codemirror_mode": {
    "name": "ipython",
    "version": 3
   },
   "file_extension": ".py",
   "mimetype": "text/x-python",
   "name": "python",
   "nbconvert_exporter": "python",
   "pygments_lexer": "ipython3",
   "version": "3.12.7"
  }
 },
 "nbformat": 4,
 "nbformat_minor": 5
}
