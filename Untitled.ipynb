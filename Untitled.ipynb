{
 "cells": [
  {
   "cell_type": "code",
   "execution_count": 75,
   "id": "c0b72545-3d67-4e5b-93f9-ef4386895f8e",
   "metadata": {},
   "outputs": [],
   "source": [
    "Brics='H3llo W0rld!' #BOOL(boole) define true or false. inventor da logica bullyana STR(string) boa tarde meu nome e max verstappen CHAR(characther) O<P<Q<R<S<T<U<V DBL(double)3,14159...<(PI) FLoat(floating numbers) 550.50 6.095 (PI) INT(integers)1,2,3,4,5..."
   ]
  },
  {
   "cell_type": "code",
   "execution_count": 77,
   "id": "1a0316a4-d8aa-4e36-ac75-298e0ba5b060",
   "metadata": {
    "scrolled": true
   },
   "outputs": [],
   "source": [
    "variable2= 10"
   ]
  },
  {
   "cell_type": "code",
   "execution_count": 79,
   "id": "69cf309a-9c92-4f85-a6a1-6b7560f4704c",
   "metadata": {
    "scrolled": true
   },
   "outputs": [
    {
     "name": "stdout",
     "output_type": "stream",
     "text": [
      "hello\n"
     ]
    }
   ],
   "source": [
    "if variable2 == 10:print('hello') \n",
    "else: print ('flamengo')"
   ]
  },
  {
   "cell_type": "code",
   "execution_count": null,
   "id": "7e49655c-8c68-4fc7-9d94-86c4eda3b910",
   "metadata": {},
   "outputs": [],
   "source": []
  }
 ],
 "metadata": {
  "kernelspec": {
   "display_name": "Python [conda env:base] *",
   "language": "python",
   "name": "conda-base-py"
  },
  "language_info": {
   "codemirror_mode": {
    "name": "ipython",
    "version": 3
   },
   "file_extension": ".py",
   "mimetype": "text/x-python",
   "name": "python",
   "nbconvert_exporter": "python",
   "pygments_lexer": "ipython3",
   "version": "3.12.7"
  }
 },
 "nbformat": 4,
 "nbformat_minor": 5
}
