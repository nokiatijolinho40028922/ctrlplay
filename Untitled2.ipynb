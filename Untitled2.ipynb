{
 "cells": [
  {
   "cell_type": "code",
   "execution_count": 86,
   "id": "7701bca1-bceb-4155-b174-416fd43a63c3",
   "metadata": {},
   "outputs": [
    {
     "name": "stdin",
     "output_type": "stream",
     "text": [
      "digite seu nome Matheus Borin Barbosa\n"
     ]
    },
    {
     "name": "stdout",
     "output_type": "stream",
     "text": [
      "Matheus Borin Barbosa\n"
     ]
    }
   ],
   "source": [
    "nome = str(input ('digite seu nome'))\n",
    "print (nome)"
   ]
  },
  {
   "cell_type": "code",
   "execution_count": 88,
   "id": "047af28b-bdc6-4eb9-af9d-0a3a032819a4",
   "metadata": {},
   "outputs": [
    {
     "name": "stdout",
     "output_type": "stream",
     "text": [
      "21\n"
     ]
    }
   ],
   "source": [
    "tamanho = len(nome)\n",
    "print (tamanho)"
   ]
  },
  {
   "cell_type": "code",
   "execution_count": 106,
   "id": "96fd4ab3-7245-48e8-ad0f-e8ed22ba92a9",
   "metadata": {},
   "outputs": [
    {
     "name": "stdout",
     "output_type": "stream",
     "text": [
      "r\n"
     ]
    }
   ],
   "source": [
    "print(nome[10])"
   ]
  },
  {
   "cell_type": "code",
   "execution_count": 98,
   "id": "7b4ac4df-e8ee-4d2b-a7b7-512010e054a6",
   "metadata": {},
   "outputs": [
    {
     "name": "stdout",
     "output_type": "stream",
     "text": [
      "a\n"
     ]
    }
   ],
   "source": [
    "print(nome[-1])"
   ]
  },
  {
   "cell_type": "code",
   "execution_count": 102,
   "id": "ffa47f1e-5e1a-4953-879e-30fcc0657bfc",
   "metadata": {},
   "outputs": [
    {
     "name": "stdout",
     "output_type": "stream",
     "text": [
      "Matheus \n"
     ]
    }
   ],
   "source": [
    "print(nome[0:8])"
   ]
  },
  {
   "cell_type": "code",
   "execution_count": 110,
   "id": "d38229ce-438c-4cbd-8183-1d4b9f6f720d",
   "metadata": {},
   "outputs": [
    {
     "name": "stdout",
     "output_type": "stream",
     "text": [
      "Borin Barbosa\n"
     ]
    }
   ],
   "source": [
    "print(nome[8:])"
   ]
  },
  {
   "cell_type": "code",
   "execution_count": 168,
   "id": "3088c829-e9f1-458d-a5d7-e642e59732cd",
   "metadata": {},
   "outputs": [
    {
     "name": "stdout",
     "output_type": "stream",
     "text": [
      "Moo\n"
     ]
    }
   ],
   "source": [
    "print(nome[::9])"
   ]
  },
  {
   "cell_type": "code",
   "execution_count": 197,
   "id": "d9c95ff9-69c9-4acf-ae8b-5dc2b8272b0e",
   "metadata": {},
   "outputs": [
    {
     "name": "stdin",
     "output_type": "stream",
     "text": [
      "digite seu nome joao\n",
      "digite sua idade 122\n"
     ]
    }
   ],
   "source": [
    "nome2 = input(\"digite seu nome\")\n",
    "idade = int(input(\"digite sua idade\"))"
   ]
  },
  {
   "cell_type": "code",
   "execution_count": 199,
   "id": "76214fdd-b4d7-4e9e-b738-e927580580d8",
   "metadata": {},
   "outputs": [
    {
     "name": "stdout",
     "output_type": "stream",
     "text": [
      "seu nome e: joao\n"
     ]
    }
   ],
   "source": [
    "print (\"seu nome e: \" + (nome2))"
   ]
  },
  {
   "cell_type": "code",
   "execution_count": 201,
   "id": "4ac163ba-e14b-462f-9c59-46389a0178fd",
   "metadata": {},
   "outputs": [
    {
     "name": "stdout",
     "output_type": "stream",
     "text": [
      "sua idade e: 122\n"
     ]
    }
   ],
   "source": [
    "print (\"sua idade e: \" + str(idade))"
   ]
  },
  {
   "cell_type": "code",
   "execution_count": 217,
   "id": "3bb6daed-b018-4249-8b49-ea588144e95c",
   "metadata": {},
   "outputs": [
    {
     "name": "stdin",
     "output_type": "stream",
     "text": [
      "insira seu nome completo:  Matheus Borin  Barbosa\n",
      "insira sua idade:  15\n",
      "insira seu email:  matheus.barb9sa@gmail.com\n"
     ]
    }
   ],
   "source": [
    "nomecompleto3 = (str(input(\"insira seu nome completo: \")))\n",
    "idade3 = (int(input(\"insira sua idade: \")))\n",
    "email = (str(input(\"insira seu email: \")))"
   ]
  },
  {
   "cell_type": "code",
   "execution_count": 273,
   "id": "ddadcd7d-97cd-47b7-aaee-c2629f22f120",
   "metadata": {},
   "outputs": [
    {
     "name": "stdout",
     "output_type": "stream",
     "text": [
      "Matheus Borin  Barbosa\n",
      "M\n",
      "Matheus\n",
      "Borin Barbosa\n",
      "15\n",
      "matheus.barb9sa@gmail.com\n",
      "4\n"
     ]
    }
   ],
   "source": [
    "nomedividio = nomecompleto3.split()\n",
    "sobrenome = nomedividio[1:]\n",
    "print (nomecompleto3)\n",
    "print (nomecompleto3[0])\n",
    "print (nomedividio[0])\n",
    "print (sobrenome[0] + ' ' + sobrenome [1])\n",
    "print (idade3)\n",
    "print (email)\n",
    "print (email.count('a'))"
   ]
  },
  {
   "cell_type": "code",
   "execution_count": 299,
   "id": "2b209733-bbec-47c6-96ec-d222441531ff",
   "metadata": {},
   "outputs": [
    {
     "name": "stdin",
     "output_type": "stream",
     "text": [
      "insira seu nome Matheus\n"
     ]
    },
    {
     "name": "stdout",
     "output_type": "stream",
     "text": [
      "matheus.barbosa@empresa.com.br\n"
     ]
    }
   ],
   "source": [
    "Nombre = str(input(\"insira seu nome\"))\n",
    "emailnovo = Nombre.lower() + '.' + nomedividio[-1].lower() + '@empresa.com.br'\n",
    "print (emailnovo)"
   ]
  },
  {
   "cell_type": "code",
   "execution_count": null,
   "id": "de35f403-4616-41b0-af06-3d1e662c60d6",
   "metadata": {},
   "outputs": [],
   "source": []
  }
 ],
 "metadata": {
  "kernelspec": {
   "display_name": "Python [conda env:base] *",
   "language": "python",
   "name": "conda-base-py"
  },
  "language_info": {
   "codemirror_mode": {
    "name": "ipython",
    "version": 3
   },
   "file_extension": ".py",
   "mimetype": "text/x-python",
   "name": "python",
   "nbconvert_exporter": "python",
   "pygments_lexer": "ipython3",
   "version": "3.12.7"
  }
 },
 "nbformat": 4,
 "nbformat_minor": 5
}
