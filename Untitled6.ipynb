{
 "cells": [
  {
   "cell_type": "code",
   "execution_count": 1,
   "id": "6f9225ae-e0da-4506-85ea-d5f13e26b4a2",
   "metadata": {},
   "outputs": [
    {
     "name": "stdin",
     "output_type": "stream",
     "text": [
      "insira seu nome sans\n",
      "insira sua classe bla\n",
      "insira seu nivel 12\n",
      "insira suas habilidades a\n",
      "insira suas habilidades a\n",
      "insira suas habilidades ç\n",
      "insira suas habilidades end\n"
     ]
    }
   ],
   "source": [
    "'''um programa que pede para um usuario : nome, classe, level e habilidades. Colocar tudo em um dicionario'''\n",
    "nome = str(input( 'insira seu nome'))\n",
    "classe= str(input( 'insira sua classe'))\n",
    "lvl = str(input('insira seu nivel'))\n",
    "habilidade = []\n",
    "while True :\n",
    "\n",
    "    escolhas = str(input('insira suas habilidades'))\n",
    "    if escolhas == 'end':\n",
    "        break\n",
    "    habilidade.append (escolhas)"
   ]
  },
  {
   "cell_type": "code",
   "execution_count": 3,
   "id": "0eccff37-7607-4749-b704-eea5fe61d069",
   "metadata": {},
   "outputs": [],
   "source": [
    "dictionary = {}\n",
    "dictionary ['nome'] = nome \n",
    "dictionary ['classe'] = classe \n",
    "dictionary ['lvl'] = lvl \n",
    "dictionary ['habilidades'] = habilidade"
   ]
  },
  {
   "cell_type": "code",
   "execution_count": 5,
   "id": "7e42ce12-7417-4a91-b746-96881d8d38a6",
   "metadata": {},
   "outputs": [
    {
     "name": "stdout",
     "output_type": "stream",
     "text": [
      "<class 'dict'>\n",
      "HUMANS?\n"
     ]
    }
   ],
   "source": [
    "print(type(dictionary))\n",
    "if dictionary ['nome'] == 'sans': \n",
    "    print ('HUMANS?')"
   ]
  },
  {
   "cell_type": "code",
   "execution_count": null,
   "id": "c359dbc8-9356-42f9-be65-91c3cef23f1e",
   "metadata": {},
   "outputs": [],
   "source": []
  }
 ],
 "metadata": {
  "kernelspec": {
   "display_name": "Python [conda env:base] *",
   "language": "python",
   "name": "conda-base-py"
  },
  "language_info": {
   "codemirror_mode": {
    "name": "ipython",
    "version": 3
   },
   "file_extension": ".py",
   "mimetype": "text/x-python",
   "name": "python",
   "nbconvert_exporter": "python",
   "pygments_lexer": "ipython3",
   "version": "3.12.7"
  }
 },
 "nbformat": 4,
 "nbformat_minor": 5
}
